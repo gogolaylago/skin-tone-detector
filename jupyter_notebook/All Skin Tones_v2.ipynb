{
 "cells": [
  {
   "cell_type": "code",
   "execution_count": 2,
   "metadata": {
    "collapsed": false,
    "deletable": true,
    "editable": true
   },
   "outputs": [],
   "source": [
    "%matplotlib notebook\n",
    "import pandas as pd\n",
    "from mpl_toolkits.mplot3d import Axes3D\n",
    "import mpl_toolkits.mplot3d as m3d\n",
    "import matplotlib.pyplot as plt\n",
    "import numpy as np\n",
    "import itertools\n",
    "import colorsys # Convert RGB values to hsv\n",
    "\n",
    "# Function to convert RGB values to YCbCr\n",
    "def rgb_to_ycbcr(R, G, B): # in (0,255) range\n",
    "    Y = .299 * R + .587 * G + .114 * B\n",
    "    Cb = 128 - .168736 * R - .331364 * G + .5 * B\n",
    "    Cr = 128 + .5 * R - .418688 * G - .081312 * B\n",
    "#     Y = .299 * R + .287 * G + .11 * B\n",
    "#     Cr = R - Y\n",
    "#     Cb = B - Y\n",
    "    return Y, Cb, Cr\n",
    "\n",
    "# Construct RGB values tuple\n",
    "rgb = (range(94, 256), range(40, 256), range(0, 256))\n",
    "\n",
    "# Find all RGB combinations\n",
    "comb = list(itertools.product(*rgb))\n",
    "\n",
    "# Convert RGB values to HSV and YCbCr and add them to the end of the RGB tuple\n",
    "rgbhsvycbcr = []\n",
    "for i in comb:\n",
    "    addToRgb = i + colorsys.rgb_to_hsv(i[0], i[1], i[2]) + rgb_to_ycbcr(i[0], i[1], i[2])\n",
    "    rgbhsvycbcr.append(addToRgb)\n",
    "\n",
    "filteredSkinTones = []\n",
    "# testRgbhsvycbcr = [(95, 40, 22, 0.16666666666666666, 0.5, 95, 54.16499999999999, 108.71552, 157.12624)]\n",
    "# rgbhsvycbcr = [r, g, b, h, s, v, y, cb, cr]\n",
    "for i in rgbhsvycbcr:\n",
    "    if ((i[0] > i[1]) and (i[0] > i[2]) and (i[0] - i[1] > 15) and \\\n",
    "    (i[3] <= 50 and i[3] >= 0 and i[4] <= 0.68 and i[4] > 0.1)) or \\\n",
    "    ((i[0] > i[1]) and (i[0] > i[2]) and (i[0] - i[1] > 15) and \\\n",
    "    (i[8] > 135 and i[7] > 85 and i[6] > 8) and \\\n",
    "    (i[8] <= (1.5862 * i[7]) + 34) and \\\n",
    "    (i[8] >= (0.3448 * i[7]) + 76.2069) and \\\n",
    "    (i[8] >= (-4.5652 * i[7]) + 234.5652) and \\\n",
    "    (i[8] <= (-1.15 * i[7]) + 301.75) and \\\n",
    "    (i[8] <= (-2.2857 * i[7]) + 432.85)):\n",
    "        filteredSkinTones.append(i)\n",
    "\n",
    "# Get only RGB values from rgbhsvycbcr tuples\n",
    "allSkinTones = [i[0:3] for i in filteredSkinTones]\n",
    "\n",
    "# Construct a dataframe of RGB and Hexcodes\n",
    "allSkinTonesDf = pd.DataFrame(allSkinTones)\n",
    "allSkinTonesDf['HexCodes'] = ['#%02x%02x%02x' % i for i in allSkinTones]\n",
    "allSkinTonesDf = allSkinTonesDf.rename(index=str, columns={0: \"R\", 1: \"G\", 2: \"B\"})\n",
    "allSkinTonesDf.head(5)\n",
    "\n",
    "# Create params for chart\n",
    "R = allSkinTonesDf['R'].astype('float64')\n",
    "G = allSkinTonesDf['G'].astype('float64')\n",
    "B = allSkinTonesDf['B'].astype('float64')\n",
    "allSkinTonesColor = allSkinTonesDf['HexCodes']"
   ]
  },
  {
   "cell_type": "code",
   "execution_count": 3,
   "metadata": {
    "collapsed": false,
    "deletable": true,
    "editable": true
   },
   "outputs": [],
   "source": [
    "productsDf = pd.read_excel('../data/input.xlsx')\n",
    "radius = 20\n",
    "\n",
    "productSkinTones = []\n",
    "for index, row in productsDf.iterrows():\n",
    "    r = productsDf['R'][index]\n",
    "    g = productsDf['G'][index]\n",
    "    b = productsDf['B'][index]\n",
    "    rRange = range(r-radius, r+radius if r+radius < 255 else 255)\n",
    "    gRange = range(g-radius, g+radius if g+radius < 255 else 255)\n",
    "    bRange = range(b-radius, b+radius if b+radius < 255 else 255)\n",
    "    rgb = (rRange, gRange, bRange)\n",
    "    comb = list(itertools.product(*rgb))\n",
    "    productSkinTones.append(comb)\n",
    "\n",
    "productSkinTones = list(set([i for sublist in productSkinTones for i in sublist]))\n",
    "productSkinTonesDf = pd.DataFrame(productSkinTones)\n",
    "productSkinTonesDf['HexCodes'] = ['#%02x%02x%02x' % i for i in productSkinTones]\n",
    "productSkinTonesDf = productSkinTonesDf.rename(index=str, columns={0: \"R\", 1: \"G\", 2: \"B\"})\n",
    "\n",
    "# Create params for chart\n",
    "x = productSkinTonesDf['R'].astype('float64')\n",
    "y = productSkinTonesDf['G'].astype('float64')\n",
    "z = productSkinTonesDf['B'].astype('float64')\n",
    "productColor = list(productSkinTonesDf['HexCodes'])\n",
    "productCoveredRange = [i/40 for i in list(productsDf['Skin Tones Covered Per Product'])]"
   ]
  },
  {
   "cell_type": "code",
   "execution_count": 4,
   "metadata": {
    "collapsed": false,
    "deletable": true,
    "editable": true
   },
   "outputs": [],
   "source": [
    "# # Construct 3D Scatter Plot\n",
    "# ax = m3d.Axes3D(plt.figure(figsize=(8, 7)))\n",
    "# # ax.scatter3D(x, y, z, c=productColor, s=productCoveredRange, depthshade=False)\n",
    "# ax.scatter3D(R, G, B, c=allSkinTonesColor)\n",
    "# ax.set_xlim3d(0, 255)\n",
    "# ax.set_ylim3d(0, 255)\n",
    "# ax.set_zlim3d(0, 255)\n",
    "# ax.set_xlabel('R', fontsize=20)\n",
    "# ax.set_ylabel('G', fontsize=20)\n",
    "# ax.set_zlabel('B', fontsize=20)\n",
    "# # ax.azim = 315\n",
    "# ax.elev = 20\n",
    "# plt.show()"
   ]
  },
  {
   "cell_type": "code",
   "execution_count": 5,
   "metadata": {
    "collapsed": true,
    "deletable": true,
    "editable": true
   },
   "outputs": [],
   "source": [
    "# plt.savefig('../image/uncovered_skin_tones.png')"
   ]
  },
  {
   "cell_type": "code",
   "execution_count": 6,
   "metadata": {
    "collapsed": false,
    "deletable": true,
    "editable": true
   },
   "outputs": [
    {
     "name": "stdout",
     "output_type": "stream",
     "text": [
      "901095 1168263\n",
      "777416 123679\n"
     ]
    },
    {
     "data": {
      "text/plain": [
       "[(154, 131, 132), (153, 46, 27), (216, 167, 172)]"
      ]
     },
     "execution_count": 6,
     "metadata": {},
     "output_type": "execute_result"
    }
   ],
   "source": [
    "print len(allSkinTones), len(set(productSkinTones))\n",
    "uncoveredSkinTones = list(set(allSkinTones) - set(allSkinTones).intersection(set(productSkinTones)))\n",
    "coveredSkinTones = list(set(allSkinTones).intersection(set(productSkinTones)))\n",
    "print len(coveredSkinTones), len(uncoveredSkinTones)\n",
    "uncoveredSkinTones[0:3]"
   ]
  },
  {
   "cell_type": "code",
   "execution_count": 14,
   "metadata": {
    "collapsed": false,
    "deletable": true,
    "editable": true
   },
   "outputs": [
    {
     "name": "stdout",
     "output_type": "stream",
     "text": [
      "160.81577309 155.0\n",
      "114.580510839 108.0\n",
      "92.2290768845 93.0\n"
     ]
    }
   ],
   "source": [
    "rValue = zip(*uncoveredSkinTones)\n",
    "for i in rValue:\n",
    "    avg = np.mean(i)\n",
    "    med = np.median(i)\n",
    "    print avg, med"
   ]
  },
  {
   "cell_type": "code",
   "execution_count": null,
   "metadata": {
    "collapsed": false,
    "deletable": true,
    "editable": true
   },
   "outputs": [],
   "source": []
  },
  {
   "cell_type": "code",
   "execution_count": null,
   "metadata": {
    "collapsed": true,
    "deletable": true,
    "editable": true
   },
   "outputs": [],
   "source": []
  }
 ],
 "metadata": {
  "kernelspec": {
   "display_name": "Python 2",
   "language": "python",
   "name": "python2"
  },
  "language_info": {
   "codemirror_mode": {
    "name": "ipython",
    "version": 2
   },
   "file_extension": ".py",
   "mimetype": "text/x-python",
   "name": "python",
   "nbconvert_exporter": "python",
   "pygments_lexer": "ipython2",
   "version": "2.7.13"
  }
 },
 "nbformat": 4,
 "nbformat_minor": 2
}
